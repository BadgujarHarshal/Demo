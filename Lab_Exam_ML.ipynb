{
  "nbformat": 4,
  "nbformat_minor": 0,
  "metadata": {
    "colab": {
      "provenance": [],
      "include_colab_link": true
    },
    "kernelspec": {
      "name": "python3",
      "display_name": "Python 3"
    },
    "language_info": {
      "name": "python"
    }
  },
  "cells": [
    {
      "cell_type": "markdown",
      "metadata": {
        "id": "view-in-github",
        "colab_type": "text"
      },
      "source": [
        "<a href=\"https://colab.research.google.com/github/BadgujarHarshal/Demo/blob/main/Lab_Exam_ML.ipynb\" target=\"_parent\"><img src=\"https://colab.research.google.com/assets/colab-badge.svg\" alt=\"Open In Colab\"/></a>"
      ]
    },
    {
      "cell_type": "code",
      "execution_count": 1,
      "metadata": {
        "id": "WZsEk_eb-ub2"
      },
      "outputs": [],
      "source": [
        "from itertools import product\n",
        "import pandas as pd\n",
        "import numpy as np\n",
        "import matplotlib.pyplot as plt\n",
        "import seaborn as sns\n",
        "from sklearn.metrics import mean_squared_error\n",
        "from sklearn.preprocessing import LabelEncoder\n",
        "import xgboost as xgb\n",
        "from flask import Flask, request, jsonify\n",
        "import joblib\n",
        "import warnings\n",
        "warnings.filterwarnings(\"ignore\")"
      ]
    },
    {
      "cell_type": "code",
      "source": [
        "sales = pd.read_csv('sales_train.csv')\n",
        "items = pd.read_csv('items.csv')\n",
        "item_categories = pd.read_csv('item_categories.csv')\n",
        "shops = pd.read_csv('shops.csv')\n",
        "test = pd.read_csv('test.csv')\n",
        "sample_submission = pd.read_csv('sample_submission.csv')\n",
        "sales['date'] = pd.to_datetime(sales['date'], format='%d.%m.%Y')"
      ],
      "metadata": {
        "id": "YRE39-x7_-KS"
      },
      "execution_count": 2,
      "outputs": []
    },
    {
      "cell_type": "code",
      "source": [
        "sales = sales[(sales['item_price'] > 0) & (sales['item_price'] < 100000)]\n",
        "sales = sales[(sales['item_cnt_day'] >= 0) & (sales['item_cnt_day'] < 1000)]\n",
        "\n",
        "sales['month'] = sales['date'].dt.to_period('M')\n",
        "monthly_sales = sales.groupby(['month', 'shop_id', 'item_id'])['item_cnt_day'].sum().reset_index()\n",
        "monthly_sales.rename(columns={'item_cnt_day': 'item_cnt_month'}, inplace=True)\n",
        "\n",
        "monthly_sales['month'] = monthly_sales['month'].astype(str)\n",
        "monthly_sales['date_block_num'] = pd.factorize(monthly_sales['month'])[0]"
      ],
      "metadata": {
        "id": "JXSJW005AEPE"
      },
      "execution_count": 3,
      "outputs": []
    },
    {
      "cell_type": "code",
      "source": [
        "grid = []\n",
        "for block_num in monthly_sales['date_block_num'].unique():\n",
        "    cur_shops = monthly_sales[monthly_sales['date_block_num'] == block_num]['shop_id'].unique()\n",
        "    cur_items = monthly_sales[monthly_sales['date_block_num'] == block_num]['item_id'].unique()\n",
        "    grid += list(product([block_num], cur_shops, cur_items))\n",
        "\n",
        "grid_df = pd.DataFrame(grid, columns=['date_block_num', 'shop_id', 'item_id'])\n",
        "data = pd.merge(grid_df, monthly_sales, how='left', on=['date_block_num', 'shop_id', 'item_id']).fillna(0)"
      ],
      "metadata": {
        "id": "qdmLJBepAXof"
      },
      "execution_count": 4,
      "outputs": []
    },
    {
      "cell_type": "code",
      "source": [
        "def lag_feature(df, lags, col):\n",
        "    for lag in lags:\n",
        "        temp = df[['date_block_num', 'shop_id', 'item_id', col]].copy()\n",
        "        temp['date_block_num'] += lag\n",
        "        temp.rename(columns={col: col+'_lag_'+str(lag)}, inplace=True)\n",
        "        df = pd.merge(df, temp, on=['date_block_num', 'shop_id', 'item_id'], how='left')\n",
        "    return df\n",
        "\n",
        "data = lag_feature(data, [1, 2, 3], 'item_cnt_month')\n",
        "data.fillna(0, inplace=True)"
      ],
      "metadata": {
        "id": "jin3CP-HA1G2"
      },
      "execution_count": 5,
      "outputs": []
    },
    {
      "cell_type": "code",
      "source": [
        "price_data = sales.groupby(['shop_id', 'item_id', 'month'])['item_price'].mean().reset_index()\n",
        "price_data['date_block_num'] = pd.factorize(price_data['month'])[0]\n",
        "data = pd.merge(data, price_data[['shop_id', 'item_id', 'date_block_num', 'item_price']],\n",
        "                on=['shop_id', 'item_id', 'date_block_num'], how='left')\n",
        "data['item_price'].fillna(0, inplace=True)\n",
        "data = lag_feature(data, [1], 'item_price')"
      ],
      "metadata": {
        "id": "8S3Lm5WtBlsz"
      },
      "execution_count": 6,
      "outputs": []
    },
    {
      "cell_type": "code",
      "source": [
        "if 'month' in data.columns:\n",
        "     data = data.drop('month', axis=1)"
      ],
      "metadata": {
        "id": "QL0NziHnB4AK"
      },
      "execution_count": 7,
      "outputs": []
    },
    {
      "cell_type": "code",
      "source": [
        "X = data[data['date_block_num'] < 33].drop(['item_cnt_month'], axis=1)\n",
        "y = data[data['date_block_num'] < 33]['item_cnt_month']\n",
        "X_test = data[data['date_block_num'] == 33].drop(['item_cnt_month'], axis=1)\n",
        "y_test = data[data['date_block_num'] == 33]['item_cnt_month']"
      ],
      "metadata": {
        "id": "EN3BoSHPB-sk"
      },
      "execution_count": 8,
      "outputs": []
    },
    {
      "cell_type": "code",
      "source": [
        "if not X.columns.equals(X_test.columns):\n",
        "    print(\"Columns in X and X_test do not match AFTER splitting:\")\n",
        "    print(\"Columns in X:\", X.columns.tolist())\n",
        "    print(\"Columns in X_test:\", X_test.columns.tolist())"
      ],
      "metadata": {
        "id": "K3yW-olYCIQR"
      },
      "execution_count": 9,
      "outputs": []
    },
    {
      "cell_type": "code",
      "source": [
        "model = xgb.XGBRegressor(\n",
        "    max_depth=8,\n",
        "    n_estimators=100,\n",
        "    learning_rate=0.1,\n",
        "    objective='reg:squarederror'\n",
        ")\n",
        "\n",
        "model.fit(X, y)\n",
        "preds = model.predict(X_test)"
      ],
      "metadata": {
        "id": "Stja70K-CLui"
      },
      "execution_count": 10,
      "outputs": []
    },
    {
      "cell_type": "code",
      "source": [
        "print(f\"preds shape: {preds.shape}\")\n",
        "print(f\"test shape: {test.shape}\")"
      ],
      "metadata": {
        "colab": {
          "base_uri": "https://localhost:8080/"
        },
        "id": "7TQ9bCZsC8kd",
        "outputId": "193b969b-426e-4943-b6b5-4e11f82de681"
      },
      "execution_count": 11,
      "outputs": [
        {
          "output_type": "stream",
          "name": "stdout",
          "text": [
            "preds shape: (238084,)\n",
            "test shape: (214200, 3)\n"
          ]
        }
      ]
    },
    {
      "cell_type": "code",
      "source": [
        "test['date_block_num'] = 33\n",
        "predict_data = pd.merge(test, data.drop('item_cnt_month', axis=1), on=['shop_id', 'item_id', 'date_block_num'], how='left')\n",
        "X_test = predict_data[X.columns]\n",
        "X_test.fillna(0, inplace=True)\n",
        "preds = model.predict(X_test)"
      ],
      "metadata": {
        "id": "8BFWeN70DV6i"
      },
      "execution_count": 12,
      "outputs": []
    },
    {
      "cell_type": "code",
      "source": [
        "test['item_cnt_month'] = preds.clip(0, 20)\n",
        "test[['ID', 'item_cnt_month']].to_csv('submission.csv', index=False)"
      ],
      "metadata": {
        "id": "OLlT0K0uDA55"
      },
      "execution_count": 13,
      "outputs": []
    },
    {
      "cell_type": "code",
      "source": [
        "joblib.dump(model, 'xgb_model.pkl')\n",
        "X.columns.to_series().to_csv('model_features.txt', index=False)"
      ],
      "metadata": {
        "id": "d4eAIjUuDy-0"
      },
      "execution_count": 14,
      "outputs": []
    },
    {
      "cell_type": "code",
      "source": [
        "from flask import Flask, request, jsonify\n",
        "import pandas as pd\n",
        "import joblib\n",
        "import xgboost as xgb\n",
        "\n",
        "app = Flask(__name__)\n",
        "model = joblib.load(\"xgb_model.pkl\")\n",
        "features = pd.read_csv('model_features.txt')['0'].values.tolist()\n",
        "\n",
        "@app.route('/predict', methods=['POST'])\n",
        "def predict():\n",
        "    input_data = request.json\n",
        "    df = pd.DataFrame([input_data], columns=features)\n",
        "    prediction = model.predict(df)[0]\n",
        "    return jsonify({'predicted_item_cnt_month': float(prediction)})"
      ],
      "metadata": {
        "id": "595kZSaoD2iQ"
      },
      "execution_count": 15,
      "outputs": []
    }
  ]
}